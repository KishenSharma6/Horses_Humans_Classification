{
 "cells": [
  {
   "cell_type": "markdown",
   "id": "4a3ec6b3-8f8e-4337-9b66-7c9f5702fff1",
   "metadata": {},
   "source": [
    "Import Libraries/Data"
   ]
  },
  {
   "cell_type": "code",
   "execution_count": 1,
   "id": "4f89e94f-4432-4f97-a1bd-2e458c8fbeca",
   "metadata": {},
   "outputs": [],
   "source": [
    "import os\n",
    "import sys\n",
    "import glob\n",
    "import numpy as np\n",
    "import torch\n",
    "from torchvision import transforms, datasets\n",
    "from PIL import Image\n",
    "\n",
    "#Import image loaders\n",
    "os.chdir(\"../../src/\")\n",
    "from load_data import preview_images, load_images\n",
    "from models import train_loop, test_loop"
   ]
  },
  {
   "cell_type": "code",
   "execution_count": 2,
   "id": "f978edd2-5823-42aa-a93d-ca936f5d5090",
   "metadata": {},
   "outputs": [
    {
     "name": "stdout",
     "output_type": "stream",
     "text": [
      "Training Horse Data: (500, 300, 300, 4) \n",
      "Test Horse Data: (128, 300, 300, 4)\n",
      "\n",
      "Training Human Data: (527, 300, 300, 4) \n",
      "Test Human Data: (128, 300, 300, 4)\n"
     ]
    }
   ],
   "source": [
    "#Import and preview image data\n",
    "train_path= \"../Data/train/\"\n",
    "horse_train= load_images(train_path + \"horses/\")\n",
    "human_train= load_images(train_path + \"humans/\")\n",
    "\n",
    "val_path= \"../Data/validation/\"\n",
    "horse_test= load_images(val_path + \"horses/\")\n",
    "human_test= load_images(val_path + \"humans/\")\n",
    "\n",
    "#Sanity Check\n",
    "print(\"Training Horse Data: %s \\nTest Horse Data: %s\\n\" % (horse_train.shape, horse_test.shape))\n",
    "print(\"Training Human Data: %s \\nTest Human Data: %s\" % (human_train.shape, human_test.shape))"
   ]
  },
  {
   "cell_type": "markdown",
   "id": "c6542689-fa47-4758-a1c1-c0ab80c7f5cf",
   "metadata": {},
   "source": [
    "Preprocess **Training** Data"
   ]
  },
  {
   "cell_type": "code",
   "execution_count": 3,
   "id": "02194be2-b30e-4e08-890a-fdccba159f92",
   "metadata": {},
   "outputs": [
    {
     "name": "stdout",
     "output_type": "stream",
     "text": [
      "torch.Size([1027, 4, 300, 300])\n",
      "torch.Size([1027, 1])\n"
     ]
    }
   ],
   "source": [
    "#Assign labels: 1= human, 0 = horse\n",
    "y_train_human= np.full((len(human_train),1), 1)\n",
    "y_train_horse= np.full((len(horse_train),1), 0)\n",
    "\n",
    "#Concatenate Training data\n",
    "X= np.concatenate((horse_train, human_train), axis=0)\n",
    "y= np.concatenate((y_train_horse, y_train_human), axis= 0)\n",
    "\n",
    "#Zero-center data\n",
    "training_mean= X.mean()\n",
    "training_std= X.std()\n",
    "X= (X - training_mean)/training_std\n",
    "\n",
    "#Shuffle, reshape and convert to tensors\n",
    "from sklearn.utils import shuffle\n",
    "X_train, y_train= shuffle(X, y)\n",
    "\n",
    "X_train= X_train.reshape((-1, 4, 300, 300))\n",
    "\n",
    "X_train= torch.from_numpy(X_train)\n",
    "y_train= torch.from_numpy(y_train)\n",
    "\n",
    "#Sanity Check\n",
    "print(X_train.shape)\n",
    "print(y_train.shape)\n",
    "#Wrap tensors into Dataset \n",
    "train_dataset = torch.utils.data.TensorDataset(X_train, y_train)    "
   ]
  },
  {
   "cell_type": "code",
   "execution_count": 4,
   "id": "078250da-f8fc-4659-a966-2e9f727b0ce3",
   "metadata": {},
   "outputs": [
    {
     "name": "stdout",
     "output_type": "stream",
     "text": [
      "Test data shape: torch.Size([256, 4, 300, 300]) \n",
      "Test label shape: torch.Size([256, 1])\n"
     ]
    }
   ],
   "source": [
    "#Preprocess Test Data\n",
    "y_test_human= np.full((len(human_test),1), 1)\n",
    "y_test_horse= np.full((len(horse_test),1), 0)\n",
    "\n",
    "#Concatenate validation set\n",
    "X= np.concatenate((horse_test, human_test), axis=0)\n",
    "y= np.concatenate((y_test_horse, y_test_human), axis= 0)\n",
    "\n",
    "#Zero-Center data\n",
    "X= (X- training_mean)/training_std\n",
    "\n",
    "#Shuffle, reshape, and convert test data to tensors\n",
    "X_test, y_test= shuffle(X, y)\n",
    "\n",
    "X_test= X_test.reshape((-1, 4, 300, 300))\n",
    "\n",
    "X_test= torch.from_numpy(X_test)\n",
    "y_test= torch.from_numpy(y_test)\n",
    "\n",
    "#Sanity Check\n",
    "print(\"Test data shape: %s \\nTest label shape: %s\" % (X_test.shape, y_test.shape))\n",
    "\n",
    "#Wrap tensors into Dataset \n",
    "test_dataset = torch.utils.data.TensorDataset(X_test, y_test)"
   ]
  },
  {
   "cell_type": "markdown",
   "id": "6a8e0524-93d6-4daf-9cb6-e8bec42aa212",
   "metadata": {},
   "source": [
    "# Modeling"
   ]
  },
  {
   "cell_type": "code",
   "execution_count": 5,
   "id": "47b644d8-5bd1-4a7e-9d21-e11ced405495",
   "metadata": {},
   "outputs": [],
   "source": [
    "import torch\n",
    "import torch.nn as nn\n",
    "import torch.nn.functional as F"
   ]
  },
  {
   "cell_type": "code",
   "execution_count": 6,
   "id": "e05bda1f-f43e-426f-8e11-6357a430862d",
   "metadata": {},
   "outputs": [],
   "source": [
    "class ConvNet(nn.Module):\n",
    "    def __init__(self):\n",
    "        super(ConvNet, self).__init__() #Init parent class nn.Module\n",
    "        self.conv1= nn.Conv2d(in_channels=3,out_channels= 32,kernel_size= 4, stride=1)\n",
    "        self.conv2= nn.Conv2d(in_channels=32, out_channels=64, kernel_size=3, stride= 1)\n",
    "        \n",
    "        self.pool= nn.MaxPool2d(kernel_size= 3, stride= 1, padding=0 )\n",
    "        self.fc1= nn.Linear(in_features= 64, out_features=256)\n",
    "        self.fc2= nn.Linear(in_features= 256, out_features= 2)\n",
    "        \n",
    "    def forward(self, x):\n",
    "        x= F.relu(self.conv1(x))\n",
    "        x= self.pool(F.relu(self.conv2(x)))\n",
    "        x= torch.flatten(x, 1)\n",
    "        x= self.fc1(x)\n",
    "        x= self.fc2(x)\n",
    "        return x\n",
    "\n",
    "        \n",
    "        \n",
    "        "
   ]
  },
  {
   "cell_type": "code",
   "execution_count": 7,
   "id": "28a235c3-c03a-4410-94c5-117e64ed3eda",
   "metadata": {},
   "outputs": [],
   "source": [
    "conv_net= ConvNet()\n"
   ]
  },
  {
   "cell_type": "code",
   "execution_count": 13,
   "id": "09434293-cdeb-4290-ad7f-2c0487ed3eee",
   "metadata": {},
   "outputs": [],
   "source": [
    "batch_size= 64\n",
    "criterion= nn.CrossEntropyLoss()\n",
    "\n",
    "from torch import optim\n",
    "\n",
    "optimizer= optim.SGD(conv_net.parameters(), lr= 10**-3, momentum=.9)"
   ]
  },
  {
   "cell_type": "code",
   "execution_count": 10,
   "id": "33d0afda-de01-471c-8e2b-f316a0a53d9e",
   "metadata": {},
   "outputs": [],
   "source": [
    "#create data loaders\n",
    "from torch.utils.data import DataLoader\n",
    "\n",
    "train_dataloader= DataLoader(train_dataset, batch_size= batch_size, drop_last= True)\n",
    "test_dataloader= DataLoader(test_dataset, batch_size= len(test_dataset))"
   ]
  },
  {
   "cell_type": "code",
   "execution_count": null,
   "id": "9abed643-04c2-4444-99b8-8ba2201c4ef5",
   "metadata": {},
   "outputs": [],
   "source": [
    "epochs= 2\n",
    "for e in epochs:\n",
    "    train_loop(train_dataloader, conv_net, "
   ]
  },
  {
   "cell_type": "code",
   "execution_count": null,
   "id": "4edf5941-76a6-4daa-b9be-2ffcddc17243",
   "metadata": {},
   "outputs": [],
   "source": []
  }
 ],
 "metadata": {
  "kernelspec": {
   "display_name": "PyTorch",
   "language": "python",
   "name": "pytorch"
  },
  "language_info": {
   "codemirror_mode": {
    "name": "ipython",
    "version": 3
   },
   "file_extension": ".py",
   "mimetype": "text/x-python",
   "name": "python",
   "nbconvert_exporter": "python",
   "pygments_lexer": "ipython3",
   "version": "3.8.12"
  }
 },
 "nbformat": 4,
 "nbformat_minor": 5
}
