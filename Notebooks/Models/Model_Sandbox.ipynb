{
 "cells": [
  {
   "cell_type": "code",
   "execution_count": 1,
   "id": "17e11bac-827e-4653-9302-9f643dee2731",
   "metadata": {},
   "outputs": [],
   "source": [
    "import os\n",
    "import sys\n",
    "import glob\n",
    "import numpy as np\n",
    "import torch\n",
    "from torchvision import transforms, datasets\n",
    "from PIL import Image\n",
    "\n",
    "#Import image loaders\n",
    "os.chdir(\"../../src/\")\n",
    "from load_data import preview_images, load_images"
   ]
  },
  {
   "cell_type": "markdown",
   "id": "35a8514b-61a3-43d7-a920-4c424fd7bea6",
   "metadata": {},
   "source": [
    "**Load Data**"
   ]
  },
  {
   "cell_type": "code",
   "execution_count": 2,
   "id": "8a6c24bc-7ace-4fcf-a5a1-f37538a5969f",
   "metadata": {},
   "outputs": [],
   "source": [
    "#Import and preview image data\n",
    "train_path= \"../Data/train/\"\n",
    "horse_train= load_images(train_path + \"horses/\")\n",
    "human_train= load_images(train_path + \"humans/\")\n",
    "\n",
    "val_path= \"../Data/validation/\"\n",
    "horse_test= load_images(val_path + \"horses/\")\n",
    "human_test= load_images(val_path + \"humans/\")"
   ]
  },
  {
   "cell_type": "code",
   "execution_count": 3,
   "id": "87a6369c-b46f-47df-8607-376d6ece584d",
   "metadata": {},
   "outputs": [
    {
     "name": "stdout",
     "output_type": "stream",
     "text": [
      "Training Horse Data: (500, 300, 300, 4) Test Horse Data: (128, 300, 300, 4)\n",
      "Training Human Data: (527, 300, 300, 4) Test Human Data: (128, 300, 300, 4)\n"
     ]
    }
   ],
   "source": [
    "#Sanity Check\n",
    "print(\"Training Horse Data: %s Test Horse Data: %s\" % (horse_train.shape, horse_test.shape))\n",
    "print(\"Training Human Data: %s Test Human Data: %s\" % (human_train.shape, human_test.shape))"
   ]
  },
  {
   "cell_type": "markdown",
   "id": "777ca338-5399-42eb-afc1-606c57a7d3d7",
   "metadata": {},
   "source": [
    "**Preprocess Data**"
   ]
  },
  {
   "cell_type": "code",
   "execution_count": 4,
   "id": "08519d76-7a9d-4346-b633-73eb01b90002",
   "metadata": {},
   "outputs": [],
   "source": [
    "#Assign labels: 1= human, 0 = horse\n",
    "y_train_human= np.full((len(human_train),1), 1)\n",
    "y_train_horse= np.full((len(horse_train),1), 0)"
   ]
  },
  {
   "cell_type": "code",
   "execution_count": 5,
   "id": "96cbb3d0-a789-48e6-8598-3b3307b8c032",
   "metadata": {},
   "outputs": [],
   "source": [
    "#Concatenate Training data\n",
    "X= np.concatenate((horse_train, human_train), axis=0)\n",
    "y= np.concatenate((y_train_horse, y_train_human), axis= 0)"
   ]
  },
  {
   "cell_type": "code",
   "execution_count": 6,
   "id": "13864b00-ee6e-401d-af21-6b8a2a8ea8c5",
   "metadata": {},
   "outputs": [],
   "source": [
    "#Zero-center data\n",
    "training_mean= X.mean()\n",
    "training_std= X.std()\n",
    "X= (X - training_mean)/training_std"
   ]
  },
  {
   "cell_type": "code",
   "execution_count": 7,
   "id": "75c72122-9842-42cd-91c4-4c9ed6c133e2",
   "metadata": {},
   "outputs": [
    {
     "name": "stdout",
     "output_type": "stream",
     "text": [
      "Training data shape: (1027, 300, 300, 4) \n",
      " Training label shape: (1027, 1)\n"
     ]
    }
   ],
   "source": [
    "#Shuffle\n",
    "from sklearn.utils import shuffle\n",
    "X_train, y_train= shuffle(X, y)\n",
    "\n",
    "#Sanity check\n",
    "print(\"Training data shape: %s \\n Training label shape: %s\" % (X_train.shape, y_train.shape))"
   ]
  },
  {
   "cell_type": "markdown",
   "id": "a076f7c3-1ccd-4a50-af7b-25ae1a07c4dc",
   "metadata": {},
   "source": [
    "**Modeling**"
   ]
  },
  {
   "cell_type": "code",
   "execution_count": 9,
   "id": "85a65ffd-3144-43fc-a9ce-73c3242740e2",
   "metadata": {},
   "outputs": [
    {
     "name": "stdout",
     "output_type": "stream",
     "text": [
      "NeuralNetwork(\n",
      "  (flatten): Flatten(start_dim=1, end_dim=-1)\n",
      "  (linear_relu_stack): Sequential(\n",
      "    (0): Linear(in_features=90000, out_features=512, bias=True)\n",
      "    (1): ReLU()\n",
      "    (2): Linear(in_features=512, out_features=512, bias=True)\n",
      "    (3): ReLU()\n",
      "    (4): Linear(in_features=512, out_features=2, bias=True)\n",
      "  )\n",
      ")\n"
     ]
    }
   ],
   "source": [
    "#use base model from early computer vision\n",
    "from convnet import NeuralNetwork\n",
    "\n",
    "base_model= NeuralNetwork()\n",
    "print(base_model)"
   ]
  },
  {
   "cell_type": "code",
   "execution_count": null,
   "id": "686739f8-bd15-42ef-9d5a-fd9b3572c240",
   "metadata": {},
   "outputs": [],
   "source": [
    "#PyTorch CNN"
   ]
  },
  {
   "cell_type": "code",
   "execution_count": null,
   "id": "cd58d073-f9fb-4a0f-a6d5-4711b7664b0c",
   "metadata": {},
   "outputs": [],
   "source": [
    "do not run below this line"
   ]
  },
  {
   "cell_type": "markdown",
   "id": "cd971727-cf0c-4643-89bf-5531f900f0e6",
   "metadata": {},
   "source": [
    "**Deploy**"
   ]
  },
  {
   "cell_type": "code",
   "execution_count": 11,
   "id": "a0ecce23-84f9-40fd-ae70-434b773a7c76",
   "metadata": {},
   "outputs": [
    {
     "name": "stdout",
     "output_type": "stream",
     "text": [
      "Test data shape: (256, 300, 300, 4) \n",
      " Training label shape: (256, 1)\n"
     ]
    }
   ],
   "source": [
    "y_test_human= np.full((len(human_test),1), 1)\n",
    "y_test_horse= np.full((len(horse_test),1), 0)\n",
    "\n",
    "#Concatenate validation set\n",
    "X= np.concatenate((horse_test, human_test), axis=0)\n",
    "y= np.concatenate((y_test_horse, y_test_human), axis= 0)\n",
    "\n",
    "#Zero-Center data\n",
    "X= (X- training_mean)/training_std\n",
    "\n",
    "#Shuffle\n",
    "X_test, y_test= shuffle(X, y)\n",
    "\n",
    "#Sanity check\n",
    "print(\"Test data shape: %s \\n Training label shape: %s\" % (X_test.shape, y_test.shape))"
   ]
  },
  {
   "cell_type": "code",
   "execution_count": null,
   "id": "5267db16-d02f-43c9-b80e-02b8cc3667ec",
   "metadata": {},
   "outputs": [],
   "source": []
  }
 ],
 "metadata": {
  "kernelspec": {
   "display_name": "PyTorch",
   "language": "python",
   "name": "pytorch"
  },
  "language_info": {
   "codemirror_mode": {
    "name": "ipython",
    "version": 3
   },
   "file_extension": ".py",
   "mimetype": "text/x-python",
   "name": "python",
   "nbconvert_exporter": "python",
   "pygments_lexer": "ipython3",
   "version": "3.8.12"
  }
 },
 "nbformat": 4,
 "nbformat_minor": 5
}
