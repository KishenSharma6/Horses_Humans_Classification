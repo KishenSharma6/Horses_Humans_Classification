{
 "cells": [
  {
   "cell_type": "code",
   "execution_count": 2,
   "id": "17e11bac-827e-4653-9302-9f643dee2731",
   "metadata": {},
   "outputs": [],
   "source": [
    "import os\n",
    "import sys\n",
    "import glob\n",
    "import numpy as np\n",
    "import torch\n",
    "from torchvision import transforms, datasets\n",
    "from PIL import Image\n",
    "\n",
    "#Import image loaders\n",
    "os.chdir(\"../../src/\")\n",
    "from load_data import preview_images, load_images"
   ]
  },
  {
   "cell_type": "code",
   "execution_count": 25,
   "id": "8a6c24bc-7ace-4fcf-a5a1-f37538a5969f",
   "metadata": {},
   "outputs": [],
   "source": [
    "#Import and preview image data\n",
    "train_path= \"../Data/train/\"\n",
    "horse_train= load_images(train_path + \"horses/\")\n",
    "human_train= load_images(train_path + \"humans/\")\n",
    "\n",
    "val_path= \"../Data/validation/\"\n",
    "horse_test= load_images(val_path + \"horses/\")\n",
    "human_test= load_images(val_path + \"humans/\")"
   ]
  },
  {
   "cell_type": "code",
   "execution_count": 26,
   "id": "87a6369c-b46f-47df-8607-376d6ece584d",
   "metadata": {},
   "outputs": [
    {
     "name": "stdout",
     "output_type": "stream",
     "text": [
      "Training Horse Data: (500, 300, 300, 4) Test Horse Data: (128, 300, 300, 4)\n",
      "Training Human Data: (527, 300, 300, 4) Test Human Data: (128, 300, 300, 4)\n"
     ]
    }
   ],
   "source": [
    "#Sanity Check\n",
    "print(\"Training Horse Data: %s Test Horse Data: %s\" % (horse_train.shape, horse_test.shape))\n",
    "print(\"Training Human Data: %s Test Human Data: %s\" % (human_train.shape, human_test.shape))"
   ]
  },
  {
   "cell_type": "code",
   "execution_count": 35,
   "id": "08519d76-7a9d-4346-b633-73eb01b90002",
   "metadata": {},
   "outputs": [],
   "source": [
    "#Assign labels: 1= human, 0 = horse\n",
    "y_train_human= np.full((len(human_train),1), 1)\n",
    "y_train_horse= np.full((len(horse_train),1), 0)\n"
   ]
  },
  {
   "cell_type": "code",
   "execution_count": 43,
   "id": "d058ca1b-3e1d-41cc-b4fe-69d3868fccd9",
   "metadata": {},
   "outputs": [
    {
     "name": "stdout",
     "output_type": "stream",
     "text": [
      "Training data shape: (1027, 300, 300, 4) \n",
      " Training label shape: (1027, 1)\n"
     ]
    }
   ],
   "source": [
    "#Concatenate Training data\n",
    "X= np.concatenate((horse_train, human_train), axis=0)\n",
    "y= np.concatenate((y_train_horse, y_train_human), axis= 0)\n",
    "\n",
    "#Shuffle\n",
    "from sklearn.utils import shuffle\n",
    "X_train, y_train= shuffle(X, y)\n",
    "\n",
    "#Sanity check\n",
    "print(\"Training data shape: %s \\n Training label shape: %s\" % (X_train.shape, y_train.shape))"
   ]
  },
  {
   "cell_type": "code",
   "execution_count": 30,
   "id": "2eb8c807-3e24-457d-822c-862535decddd",
   "metadata": {},
   "outputs": [
    {
     "data": {
      "text/plain": [
       "360000"
      ]
     },
     "execution_count": 30,
     "metadata": {},
     "output_type": "execute_result"
    }
   ],
   "source": [
    "np.count_nonzero(test[0]==horse_train[0])"
   ]
  },
  {
   "cell_type": "code",
   "execution_count": 34,
   "id": "384fda14-ff81-40c4-8302-7e8ec1512699",
   "metadata": {},
   "outputs": [
    {
     "data": {
      "text/plain": [
       "91736"
      ]
     },
     "execution_count": 34,
     "metadata": {},
     "output_type": "execute_result"
    }
   ],
   "source": [
    "#Sanity Check\n",
    "np.count_nonzero(test[50]==human_train[0])"
   ]
  },
  {
   "cell_type": "code",
   "execution_count": 23,
   "id": "ba4912ca-3b94-4c96-9e08-a1d466576353",
   "metadata": {},
   "outputs": [
    {
     "data": {
      "text/plain": [
       "array([[[ 52,  32,  21, 255],\n",
       "        [ 54,  34,  22, 255],\n",
       "        [ 58,  36,  23, 255],\n",
       "        ...,\n",
       "        [ 89,  70,  57, 255],\n",
       "        [ 89,  70,  57, 255],\n",
       "        [ 89,  70,  57, 255]],\n",
       "\n",
       "       [[ 41,  22,  13, 255],\n",
       "        [ 45,  24,  14, 255],\n",
       "        [ 38,  20,  11, 255],\n",
       "        ...,\n",
       "        [ 89,  70,  57, 255],\n",
       "        [ 89,  70,  57, 255],\n",
       "        [ 89,  70,  57, 255]],\n",
       "\n",
       "       [[ 30,  16,   9, 255],\n",
       "        [ 25,  13,   7, 255],\n",
       "        [ 21,  10,   5, 255],\n",
       "        ...,\n",
       "        [ 90,  70,  57, 255],\n",
       "        [ 90,  70,  57, 255],\n",
       "        [ 90,  70,  57, 255]],\n",
       "\n",
       "       ...,\n",
       "\n",
       "       [[ 70,  69,  68, 255],\n",
       "        [ 75,  74,  73, 255],\n",
       "        [ 74,  75,  73, 255],\n",
       "        ...,\n",
       "        [ 75,  76,  74, 255],\n",
       "        [ 80,  81,  79, 255],\n",
       "        [ 83,  84,  82, 255]],\n",
       "\n",
       "       [[ 66,  67,  64, 255],\n",
       "        [ 71,  71,  69, 255],\n",
       "        [ 75,  75,  73, 255],\n",
       "        ...,\n",
       "        [ 80,  82,  79, 255],\n",
       "        [ 83,  83,  81, 255],\n",
       "        [ 83,  84,  81, 255]],\n",
       "\n",
       "       [[ 64,  66,  62, 255],\n",
       "        [ 65,  66,  63, 255],\n",
       "        [ 67,  67,  65, 255],\n",
       "        ...,\n",
       "        [102, 102, 100, 255],\n",
       "        [ 90,  91,  88, 255],\n",
       "        [ 86,  87,  84, 255]]], dtype=uint8)"
      ]
     },
     "execution_count": 23,
     "metadata": {},
     "output_type": "execute_result"
    }
   ],
   "source": [
    "human_train[0]"
   ]
  },
  {
   "cell_type": "code",
   "execution_count": 18,
   "id": "6e0ec0c8-a86b-4e6a-96ed-9adf2ed19d2d",
   "metadata": {},
   "outputs": [
    {
     "name": "stdout",
     "output_type": "stream",
     "text": [
      "Training Horse Data: (500, 300, 300, 4) Test Horse Data: (128, 300, 300, 4)\n",
      "Training Human Data: (500, 300, 300, 4) Test Human Data: (128, 300, 300, 4)\n"
     ]
    }
   ],
   "source": [
    "print(\"Training Horse Data: %s Test Horse Data: %s\" % (horse_train.shape, horse_test.shape))\n",
    "print(\"Training Human Data: %s Test Human Data: %s\" % (human_train.shape, human_test.shape))"
   ]
  }
 ],
 "metadata": {
  "kernelspec": {
   "display_name": "PyTorch",
   "language": "python",
   "name": "pytorch"
  },
  "language_info": {
   "codemirror_mode": {
    "name": "ipython",
    "version": 3
   },
   "file_extension": ".py",
   "mimetype": "text/x-python",
   "name": "python",
   "nbconvert_exporter": "python",
   "pygments_lexer": "ipython3",
   "version": "3.8.12"
  }
 },
 "nbformat": 4,
 "nbformat_minor": 5
}
