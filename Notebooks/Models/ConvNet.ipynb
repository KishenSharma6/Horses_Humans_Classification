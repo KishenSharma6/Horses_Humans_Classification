{
 "cells": [
  {
   "cell_type": "code",
   "execution_count": 45,
   "id": "00a175f9",
   "metadata": {},
   "outputs": [],
   "source": [
    "import os\n",
    "import sys\n",
    "import tensorflow as tf\n",
    "import numpy as np"
   ]
  },
  {
   "cell_type": "markdown",
   "id": "d04741a9",
   "metadata": {},
   "source": [
    "**Load  and prepareTraining data**"
   ]
  },
  {
   "cell_type": "code",
   "execution_count": 51,
   "id": "54fdf23a",
   "metadata": {},
   "outputs": [],
   "source": [
    "from load_data import load_images\n",
    "\n",
    "horses_path= \"/Users/ksharma/Documents/ML Engineer/Machine Learning/Projects/HorsesHumans/Data/train/horses/*.png\"\n",
    "humans_path= \"/Users/ksharma/Documents/ML Engineer/Machine Learning/Projects/HorsesHumans/Data/train/humans/*.png\"\n",
    "\n",
    "horses_training= load_images(horses_path)\n",
    "humans_training= load_images(humans_path)"
   ]
  },
  {
   "cell_type": "markdown",
   "id": "e8816cae",
   "metadata": {},
   "source": [
    "**Check Data**"
   ]
  },
  {
   "cell_type": "code",
   "execution_count": 54,
   "id": "8f8a911a",
   "metadata": {},
   "outputs": [
    {
     "name": "stdout",
     "output_type": "stream",
     "text": [
      "Horses training data: (500, 300, 300, 4)\n",
      "Humans training data: (527, 300, 300, 4)\n"
     ]
    }
   ],
   "source": [
    "print(\"Horses training data: {}\".format(horses_training.shape))\n",
    "print(\"Humans training data: {}\".format(humans_training.shape))"
   ]
  },
  {
   "cell_type": "code",
   "execution_count": 73,
   "id": "587b60af",
   "metadata": {},
   "outputs": [
    {
     "data": {
      "text/plain": [
       "(1027, 300, 300, 4)"
      ]
     },
     "execution_count": 73,
     "metadata": {},
     "output_type": "execute_result"
    }
   ],
   "source": [
    "#Concatenate training data\n",
    "X_train= np.concatenate((horses_training, humans_training), dtype= \"float\")\n",
    "X_train.shape"
   ]
  },
  {
   "cell_type": "code",
   "execution_count": 74,
   "id": "40b280e1",
   "metadata": {},
   "outputs": [
    {
     "data": {
      "text/plain": [
       "(1000, 1)"
      ]
     },
     "execution_count": 74,
     "metadata": {},
     "output_type": "execute_result"
    }
   ],
   "source": [
    "#Create labels. Human : 1, Horse : 0\n",
    "human_labels= np.full((500,1),1)\n",
    "horse_labels= np.full((500,1),0)\n",
    "\n",
    "y_train= np.concatenate((horse_labels, human_labels))"
   ]
  },
  {
   "cell_type": "code",
   "execution_count": 68,
   "id": "a78966bf",
   "metadata": {},
   "outputs": [
    {
     "ename": "ValueError",
     "evalue": "operands could not be broadcast together with shapes (500,300,300,4) (1,500) ",
     "output_type": "error",
     "traceback": [
      "\u001b[0;31m---------------------------------------------------------------------------\u001b[0m",
      "\u001b[0;31mValueError\u001b[0m                                Traceback (most recent call last)",
      "\u001b[0;32m<ipython-input-68-3b9afdcca90f>\u001b[0m in \u001b[0;36m<module>\u001b[0;34m\u001b[0m\n\u001b[0;32m----> 1\u001b[0;31m \u001b[0mhorses_training\u001b[0m \u001b[0;34m+\u001b[0m \u001b[0mhorse_labels\u001b[0m\u001b[0;34m\u001b[0m\u001b[0;34m\u001b[0m\u001b[0m\n\u001b[0m",
      "\u001b[0;31mValueError\u001b[0m: operands could not be broadcast together with shapes (500,300,300,4) (1,500) "
     ]
    }
   ],
   "source": [
    "horses_training "
   ]
  },
  {
   "cell_type": "code",
   "execution_count": 56,
   "id": "561de3aa",
   "metadata": {},
   "outputs": [
    {
     "data": {
      "text/plain": [
       "(300, 300, 4)"
      ]
     },
     "execution_count": 56,
     "metadata": {},
     "output_type": "execute_result"
    }
   ],
   "source": [
    "horses_training[0].shape"
   ]
  },
  {
   "cell_type": "code",
   "execution_count": null,
   "id": "064b7646",
   "metadata": {},
   "outputs": [],
   "source": []
  }
 ],
 "metadata": {
  "kernelspec": {
   "display_name": "DeepLearning",
   "language": "python",
   "name": "deeplearning"
  },
  "language_info": {
   "codemirror_mode": {
    "name": "ipython",
    "version": 3
   },
   "file_extension": ".py",
   "mimetype": "text/x-python",
   "name": "python",
   "nbconvert_exporter": "python",
   "pygments_lexer": "ipython3",
   "version": "3.8.8"
  }
 },
 "nbformat": 4,
 "nbformat_minor": 5
}
