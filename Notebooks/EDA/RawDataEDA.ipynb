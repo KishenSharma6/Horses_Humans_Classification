{
 "cells": [
  {
   "cell_type": "code",
   "execution_count": 1,
   "id": "be070205",
   "metadata": {},
   "outputs": [],
   "source": [
    "import numpy as np\n",
    "import pandas as pd\n",
    "import matplotlib.pyplot as plt\n",
    "import requests"
   ]
  },
  {
   "cell_type": "code",
   "execution_count": 2,
   "id": "399053ea",
   "metadata": {},
   "outputs": [
    {
     "data": {
      "text/plain": [
       "{'Date': 'Wed, 18 Aug 2021 21:45:59 GMT', 'Content-Type': 'text/html; charset=utf-8', 'Cache-Control': 'no-cache, no-store', 'Pragma': 'no-cache', 'Content-Encoding': 'gzip', 'Set-Cookie': 'CSRF-TOKEN=CfDJ8LdUzqlsSWBPr4Ce3rb9VL8_GYWwQ_j-ALKm-ur8FrVV-hjyFARvgCGRKLJWAPCz9SesBjhn66Z-U-xFnOcp44jFuCqX0Kq7Lq0ypr09FloLW7u-Q2fSvBUq7JB26zWFMObdvmXIaaZJdCWJ6N4mIpE; path=/; secure; samesite=lax; httponly, XSRF-TOKEN=CfDJ8LdUzqlsSWBPr4Ce3rb9VL8IMaHY2LLUL9fkDjlQ2vkdFT3svAfCafXiX9XlYpwFqN_r_eR5fMnASWYx5FruhqXykijl5zwbb0aizFaMaUQ1rnSXke6yJ8AwQBBKdLMXf02LsOu8htfMBjUJZShgey0; path=/; secure; samesite=lax, CLIENT-TOKEN=eyJhbGciOiJub25lIiwidHlwIjoiSldUIn0.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.; path=/; secure; samesite=lax', 'Vary': 'Accept-Encoding', 'Turbolinks-Location': 'https://www.kaggle.com/account/login?titleType=dataset-downloads&showDatasetDownloadSkip=False&messageId=datasetsWelcome&returnUrl=%2Fsanikamal%2Fhorses-or-humans-dataset%3Fresource%3Ddownload', 'X-Frame-Options': 'SAMEORIGIN', 'Strict-Transport-Security': 'max-age=63072000; includeSubDomains; preload', 'Content-Security-Policy': \"object-src 'none'; script-src 'nonce-FDj1nSh9xbYaXmye1rh8ng==' 'report-sample' 'unsafe-inline' 'unsafe-eval' 'strict-dynamic' https: http:; frame-src 'self' https://www.kaggleusercontent.com https://www.youtube.com/embed/ https://polygraph-cool.github.io https://www.google.com/recaptcha/ https://form.jotform.com https://submit.jotform.us https://submit.jotformpro.com https://submit.jotform.com https://www.docdroid.com https://www.docdroid.net https://kaggle-static.storage.googleapis.com https://kaggle-static-staging.storage.googleapis.com https://kkb-dev.jupyter-proxy.kaggle.net https://kkb-staging.jupyter-proxy.kaggle.net https://kkb-production.jupyter-proxy.kaggle.net https://kkb-dev.firebaseapp.com https://kkb-staging.firebaseapp.com https://kkb-production.firebaseapp.com https://kaggle-metastore-test.firebaseapp.com https://kaggle-metastore.firebaseapp.com https://apis.google.com https://content-sheets.googleapis.com/ https://accounts.google.com/ https://storage.googleapis.com https://docs.google.com; base-uri 'none'; report-uri https://csp.withgoogle.com/csp/kaggle/20201130;\", 'X-Content-Type-Options': 'nosniff', 'Referrer-Policy': 'strict-origin-when-cross-origin', 'Via': '1.1 google', 'Alt-Svc': 'clear', 'Transfer-Encoding': 'chunked'}"
      ]
     },
     "execution_count": 2,
     "metadata": {},
     "output_type": "execute_result"
    }
   ],
   "source": []
  },
  {
   "cell_type": "code",
   "execution_count": null,
   "id": "0757f2af",
   "metadata": {},
   "outputs": [],
   "source": []
  },
  {
   "cell_type": "code",
   "execution_count": null,
   "id": "92172048",
   "metadata": {},
   "outputs": [],
   "source": []
  }
 ],
 "metadata": {
  "kernelspec": {
   "display_name": "DeepLearning",
   "language": "python",
   "name": "deeplearning"
  },
  "language_info": {
   "codemirror_mode": {
    "name": "ipython",
    "version": 3
   },
   "file_extension": ".py",
   "mimetype": "text/x-python",
   "name": "python",
   "nbconvert_exporter": "python",
   "pygments_lexer": "ipython3",
   "version": "3.8.8"
  }
 },
 "nbformat": 4,
 "nbformat_minor": 5
}
